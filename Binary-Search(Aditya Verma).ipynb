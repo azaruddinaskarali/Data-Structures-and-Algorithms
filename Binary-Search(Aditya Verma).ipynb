{
 "cells": [
  {
   "cell_type": "markdown",
   "metadata": {},
   "source": [
    "### Binary_search"
   ]
  },
  {
   "cell_type": "code",
   "execution_count": null,
   "metadata": {},
   "outputs": [],
   "source": [
    "def binary_search(arr,a):\n",
    "    l=0\n",
    "    r=len(arr)-1\n",
    "    \n",
    "    while l<=r:\n",
    "        m=(l+r)//2\n",
    "        if arr[m]==a:\n",
    "            return m\n",
    "        \n",
    "        elif arr[m]<a:\n",
    "            l=m+1\n",
    "        \n",
    "        elif arr[m]>a:\n",
    "            r=m-1\n",
    "        \n",
    "    print(\"not found\")\n",
    "            "
   ]
  },
  {
   "cell_type": "code",
   "execution_count": null,
   "metadata": {},
   "outputs": [],
   "source": [
    "binary_search([1,4,8,24],8)"
   ]
  },
  {
   "cell_type": "markdown",
   "metadata": {},
   "source": [
    "####         m=l+(r-l)/ /2     for preventing integer overflow"
   ]
  },
  {
   "cell_type": "code",
   "execution_count": null,
   "metadata": {},
   "outputs": [],
   "source": []
  },
  {
   "cell_type": "code",
   "execution_count": null,
   "metadata": {},
   "outputs": [],
   "source": []
  },
  {
   "cell_type": "code",
   "execution_count": null,
   "metadata": {},
   "outputs": [],
   "source": []
  },
  {
   "cell_type": "code",
   "execution_count": null,
   "metadata": {},
   "outputs": [],
   "source": []
  },
  {
   "cell_type": "code",
   "execution_count": null,
   "metadata": {},
   "outputs": [],
   "source": []
  },
  {
   "cell_type": "code",
   "execution_count": null,
   "metadata": {},
   "outputs": [],
   "source": []
  },
  {
   "cell_type": "markdown",
   "metadata": {},
   "source": [
    "### 1. Binary Search on Reverse Sorted Array"
   ]
  },
  {
   "cell_type": "code",
   "execution_count": null,
   "metadata": {},
   "outputs": [],
   "source": [
    "def binary_rev(arr,b):\n",
    "    l=0\n",
    "    r=len(arr)-1\n",
    "    \n",
    "    while l<=r:\n",
    "        m=(l+r)//2\n",
    "        \n",
    "        if arr[m]==b:\n",
    "            return m\n",
    "        elif arr[m]>b:\n",
    "            l=m+1\n",
    "        elif arr[m]<b:\n",
    "            r=m-1\n",
    "        else:\n",
    "            return -1"
   ]
  },
  {
   "cell_type": "code",
   "execution_count": null,
   "metadata": {},
   "outputs": [],
   "source": [
    "binary_rev([20,17,15,14,13,12,10,9,8,4],4)"
   ]
  },
  {
   "cell_type": "code",
   "execution_count": null,
   "metadata": {},
   "outputs": [],
   "source": []
  },
  {
   "cell_type": "code",
   "execution_count": null,
   "metadata": {},
   "outputs": [],
   "source": []
  },
  {
   "cell_type": "code",
   "execution_count": null,
   "metadata": {},
   "outputs": [],
   "source": []
  },
  {
   "cell_type": "code",
   "execution_count": null,
   "metadata": {},
   "outputs": [],
   "source": []
  },
  {
   "cell_type": "code",
   "execution_count": null,
   "metadata": {},
   "outputs": [],
   "source": []
  },
  {
   "cell_type": "markdown",
   "metadata": {},
   "source": [
    "### 2.Order Not Known Search"
   ]
  },
  {
   "cell_type": "code",
   "execution_count": null,
   "metadata": {},
   "outputs": [],
   "source": [
    "def agnostic_search(arr,b):\n",
    "    for i in range(len(arr)):\n",
    "        if arr[i]>arr[i+1]:\n",
    "            l=0\n",
    "            r=len(arr)-1\n",
    "    \n",
    "            while l<=r:\n",
    "                m=(l+r)//2\n",
    "        \n",
    "                if arr[m]==b:\n",
    "                    return m\n",
    "                elif arr[m]>b:\n",
    "                    l=m+1\n",
    "                elif arr[m]<b:\n",
    "                    r=m-1\n",
    "                else:\n",
    "                    return -1\n",
    "        else:\n",
    "        \n",
    "            l=0\n",
    "            r=len(arr)-1\n",
    "    \n",
    "            while l<=r:\n",
    "                m=(l+r)//2\n",
    "                if arr[m]==b:\n",
    "                    return m\n",
    "        \n",
    "                elif arr[m]<b:\n",
    "                    l=m+1\n",
    "        \n",
    "                elif arr[m]>b:\n",
    "                    r=m-1\n",
    "        \n",
    "            print(\"not found\")\n",
    "        \n",
    "        "
   ]
  },
  {
   "cell_type": "code",
   "execution_count": null,
   "metadata": {},
   "outputs": [],
   "source": [
    "agnostic_search([20,17,15,14,13,12,10,9,8,4],4)"
   ]
  },
  {
   "cell_type": "code",
   "execution_count": null,
   "metadata": {},
   "outputs": [],
   "source": [
    "agnostic_search([1,2,3,4,10,12,19,20,29,30,90],4)"
   ]
  },
  {
   "cell_type": "code",
   "execution_count": null,
   "metadata": {},
   "outputs": [],
   "source": []
  },
  {
   "cell_type": "code",
   "execution_count": null,
   "metadata": {},
   "outputs": [],
   "source": []
  },
  {
   "cell_type": "code",
   "execution_count": null,
   "metadata": {},
   "outputs": [],
   "source": []
  },
  {
   "cell_type": "code",
   "execution_count": null,
   "metadata": {},
   "outputs": [],
   "source": []
  },
  {
   "cell_type": "markdown",
   "metadata": {},
   "source": [
    "### 3.First and Last occurrence of an Element"
   ]
  },
  {
   "cell_type": "code",
   "execution_count": null,
   "metadata": {},
   "outputs": [],
   "source": [
    "def final_func(arr,a):\n",
    "    return first_occur(arr,a),last_occur(arr,a)\n",
    "\n",
    "    \n",
    "def first_occur(arr,a):\n",
    "    l=0\n",
    "    r=len(arr)-1\n",
    "    res1=-1\n",
    "        \n",
    "    while l<=r:\n",
    "        m=(l+r)//2\n",
    "        if arr[m]==a:\n",
    "            res1=m\n",
    "            r=m-1\n",
    "        \n",
    "        elif arr[m]<a:\n",
    "            l=m+1\n",
    "        \n",
    "        elif arr[m]>a:\n",
    "            r=m-1\n",
    "        \n",
    "    return res1\n",
    "    \n",
    "def last_occur(arr,a):\n",
    "    l=0\n",
    "    r=len(arr)-1\n",
    "    res2=-1\n",
    "        \n",
    "    while l<=r:\n",
    "        m=(l+r)//2\n",
    "        if arr[m]==a:\n",
    "            res2=m\n",
    "            l=m+1\n",
    "        \n",
    "        elif arr[m]<a:\n",
    "            l=m+1\n",
    "        \n",
    "        elif arr[m]>a:\n",
    "            r=m-1\n",
    "        \n",
    "    return res2   "
   ]
  },
  {
   "cell_type": "code",
   "execution_count": null,
   "metadata": {},
   "outputs": [],
   "source": [
    "final_func([ 1, 3, 5, 5, 5, 5, 67, 123, 125 ],5)\n"
   ]
  },
  {
   "cell_type": "code",
   "execution_count": null,
   "metadata": {},
   "outputs": [],
   "source": []
  },
  {
   "cell_type": "code",
   "execution_count": null,
   "metadata": {},
   "outputs": [],
   "source": []
  },
  {
   "cell_type": "code",
   "execution_count": null,
   "metadata": {},
   "outputs": [],
   "source": []
  },
  {
   "cell_type": "code",
   "execution_count": null,
   "metadata": {},
   "outputs": [],
   "source": []
  },
  {
   "cell_type": "markdown",
   "metadata": {},
   "source": [
    "### 4.Count of an Element in a Sorted Array"
   ]
  },
  {
   "cell_type": "code",
   "execution_count": null,
   "metadata": {},
   "outputs": [],
   "source": [
    "def count(arr,a):\n",
    "    count=0\n",
    "    for i in range(len(arr)):\n",
    "                   if arr[i]==a:\n",
    "                       count+=1\n",
    "    return count\n",
    "                   "
   ]
  },
  {
   "cell_type": "code",
   "execution_count": null,
   "metadata": {},
   "outputs": [],
   "source": [
    "count([ 1, 3, 5, 5, 5, 5, 67, 123, 125 ],5)"
   ]
  },
  {
   "cell_type": "markdown",
   "metadata": {},
   "source": [
    "use first and last occurence functions and return difference between return values and add+1 we get count "
   ]
  },
  {
   "cell_type": "code",
   "execution_count": null,
   "metadata": {},
   "outputs": [],
   "source": [
    "def count_func(arr,a):\n",
    "    return abs(first_occur(arr,a)-last_occur(arr,a))+1\n",
    "\n",
    "    \n",
    "def first_occur(arr,a):\n",
    "    l=0\n",
    "    r=len(arr)-1\n",
    "    res1=-1\n",
    "        \n",
    "    while l<=r:\n",
    "        m=(l+r)//2\n",
    "        if arr[m]==a:\n",
    "            res1=m\n",
    "            r=m-1\n",
    "        \n",
    "        elif arr[m]<a:\n",
    "            l=m+1\n",
    "        \n",
    "        elif arr[m]>a:\n",
    "            r=m-1\n",
    "        \n",
    "    return res1\n",
    "    \n",
    "def last_occur(arr,a):\n",
    "    l=0\n",
    "    r=len(arr)-1\n",
    "    res2=-1\n",
    "        \n",
    "    while l<=r:\n",
    "        m=(l+r)//2\n",
    "        if arr[m]==a:\n",
    "            res2=m\n",
    "            l=m+1\n",
    "        \n",
    "        elif arr[m]<a:\n",
    "            l=m+1\n",
    "        \n",
    "        elif arr[m]>a:\n",
    "            r=m-1\n",
    "        \n",
    "    return res2   "
   ]
  },
  {
   "cell_type": "code",
   "execution_count": null,
   "metadata": {},
   "outputs": [],
   "source": [
    "count_func([ 1, 3, 5, 5, 5, 5, 67, 123, 125 ],5)"
   ]
  },
  {
   "cell_type": "code",
   "execution_count": null,
   "metadata": {},
   "outputs": [],
   "source": []
  },
  {
   "cell_type": "code",
   "execution_count": null,
   "metadata": {},
   "outputs": [],
   "source": []
  },
  {
   "cell_type": "markdown",
   "metadata": {},
   "source": [
    "### 5.Number of Times a Sorted array is Rotated"
   ]
  },
  {
   "cell_type": "markdown",
   "metadata": {},
   "source": [
    "### o(n)"
   ]
  },
  {
   "cell_type": "code",
   "execution_count": 1,
   "metadata": {},
   "outputs": [],
   "source": [
    "def rot_sot1(arr):\n",
    "    mini=arr[0]\n",
    "    index=0\n",
    "    \n",
    "    for i in range(1,len(arr)-1):\n",
    "        if arr[i]<mini:\n",
    "            mini=arr[i]\n",
    "            index=i\n",
    "    \n",
    "    return index"
   ]
  },
  {
   "cell_type": "code",
   "execution_count": 2,
   "metadata": {},
   "outputs": [
    {
     "data": {
      "text/plain": [
       "3"
      ]
     },
     "execution_count": 2,
     "metadata": {},
     "output_type": "execute_result"
    }
   ],
   "source": [
    "rot_sot1([11, 12, 15,7, 9])"
   ]
  },
  {
   "cell_type": "markdown",
   "metadata": {},
   "source": [
    "#### Doesnt handle duplicate values"
   ]
  },
  {
   "cell_type": "code",
   "execution_count": 3,
   "metadata": {},
   "outputs": [],
   "source": [
    "\n",
    "\n",
    "def rotsot(arr):\n",
    "    \n",
    "    l=0\n",
    "    r=len(arr)-1\n",
    "    n=len(arr)\n",
    " \n",
    "    \n",
    "    while l<=r:\n",
    "        m=(l+r)//2\n",
    "        \n",
    "        prev=(m-1+n)%n\n",
    "        next=(m+1)%n\n",
    "        \n",
    "        if arr[m]<prev and arr[m]<=next:\n",
    "            return m\n",
    "        \n",
    "        \n",
    "        elif arr[m]<arr[r]:\n",
    "            r=m-1\n",
    "        \n",
    "        elif arr[m]>arr[r]:\n",
    "            l=m+1\n",
    "            \n",
    "            "
   ]
  },
  {
   "cell_type": "code",
   "execution_count": 4,
   "metadata": {},
   "outputs": [
    {
     "data": {
      "text/plain": [
       "0"
      ]
     },
     "execution_count": 4,
     "metadata": {},
     "output_type": "execute_result"
    }
   ],
   "source": [
    "rotsot([1,2,3,4,5])"
   ]
  },
  {
   "cell_type": "code",
   "execution_count": 6,
   "metadata": {},
   "outputs": [
    {
     "data": {
      "text/plain": [
       "4"
      ]
     },
     "execution_count": 6,
     "metadata": {},
     "output_type": "execute_result"
    }
   ],
   "source": [
    "rotsot([3,4,5,1,2,3])"
   ]
  },
  {
   "cell_type": "markdown",
   "metadata": {},
   "source": [
    "### 6.Find Minimum in Rotated Sorted Array"
   ]
  },
  {
   "cell_type": "markdown",
   "metadata": {},
   "source": [
    "#### Handles duplicate values"
   ]
  },
  {
   "cell_type": "code",
   "execution_count": null,
   "metadata": {},
   "outputs": [],
   "source": [
    "  def findMin(nums):\n",
    "     \n",
    "        \n",
    "        l=0\n",
    "        r=len(nums)-1\n",
    "        while l<r:\n",
    "            mid = l + (r-l)/2\n",
    "            if (r-l)==1:\n",
    "                return min(nums[l],nums[r])\n",
    "            if nums[l]==nums[mid]:\n",
    "                l+=1\n",
    "            elif nums[r]==nums[mid]:\n",
    "                r-=1\n",
    "            elif nums[l]<nums[r] or nums[l]>nums[mid]:\n",
    "                r = mid\n",
    "            else:\n",
    "                l = mid\n",
    "        return nums[l]"
   ]
  },
  {
   "cell_type": "code",
   "execution_count": null,
   "metadata": {},
   "outputs": [],
   "source": []
  },
  {
   "cell_type": "markdown",
   "metadata": {},
   "source": [
    "### 7.Search in almost sorted array"
   ]
  },
  {
   "cell_type": "code",
   "execution_count": null,
   "metadata": {},
   "outputs": [],
   "source": [
    "def sasa(arr,x):\n",
    "    \n",
    "    n=len(arr)\n",
    "    l=0\n",
    "    r=n-1\n",
    "    \n",
    "    while l<=r:\n",
    "        m=(l+r)//2\n",
    "        \n",
    "        if arr[m]==x:\n",
    "            return m\n",
    "        \n",
    "        elif m>1 and arr[m-1]==x:\n",
    "            return m-1\n",
    "        \n",
    "        elif m<r and arr[m+1]==x:\n",
    "            return m+1\n",
    "        \n",
    "        if arr[m]<x:\n",
    "            l=m+2\n",
    "        elif arr[m]>x:\n",
    "            r=m-2"
   ]
  },
  {
   "cell_type": "code",
   "execution_count": null,
   "metadata": {},
   "outputs": [],
   "source": [
    "sasa([5,10,30,20],30)"
   ]
  },
  {
   "cell_type": "markdown",
   "metadata": {},
   "source": [
    "### 8. Find Floor of an element in a Sorted Array"
   ]
  },
  {
   "cell_type": "code",
   "execution_count": null,
   "metadata": {},
   "outputs": [],
   "source": [
    "def floor(arr,x):\n",
    "    l=0\n",
    "    r=len(arr)-1\n",
    "    res=0\n",
    "    \n",
    "    while l<=r:\n",
    "        m=(l+r)//2\n",
    "        \n",
    "    \n",
    "        if arr[m]==x:\n",
    "            return arr[m]\n",
    "        \n",
    "        elif arr[m]<x:\n",
    "            res=arr[m]\n",
    "            l=m+1\n",
    "        \n",
    "        elif arr[m]>x:\n",
    "            r=m-1\n",
    "    return res\n",
    "            "
   ]
  },
  {
   "cell_type": "code",
   "execution_count": null,
   "metadata": {},
   "outputs": [],
   "source": [
    "floor([1,2,3,4,8,10,12],5)"
   ]
  },
  {
   "cell_type": "markdown",
   "metadata": {},
   "source": [
    "### 9. Find Floor of an element in a Sorted Array"
   ]
  },
  {
   "cell_type": "code",
   "execution_count": null,
   "metadata": {},
   "outputs": [],
   "source": [
    "def ceil(arr,x):\n",
    "    l=0\n",
    "    r=len(arr)-1\n",
    "    \n",
    "    res=0\n",
    "    \n",
    "    while l<=r:\n",
    "        m=(l+r)//2\n",
    "        \n",
    "        if arr[m]==x:\n",
    "            return arr[m]\n",
    "        \n",
    "        elif arr[m]>x:\n",
    "            res=arr[m]\n",
    "            r=m-1\n",
    "        \n",
    "        \n",
    "        elif arr[m]<x:\n",
    "            l=m+1\n",
    "    \n",
    "    return res\n",
    "            "
   ]
  },
  {
   "cell_type": "code",
   "execution_count": null,
   "metadata": {},
   "outputs": [],
   "source": [
    "ceil([1,2,3,4,8,10,12],5)"
   ]
  },
  {
   "cell_type": "markdown",
   "metadata": {},
   "source": [
    "### 10.Smallest alphabet greater than a given character"
   ]
  },
  {
   "cell_type": "code",
   "execution_count": null,
   "metadata": {},
   "outputs": [],
   "source": [
    "def next_greatest_alpha(arr,k):\n",
    "    \n",
    "   \n",
    "    \n",
    "    \n",
    "    l=0\n",
    "    r=len(arr)-1\n",
    "    ans=0\n",
    "    \n",
    "    while l<=r:\n",
    "        \n",
    "        m=(l+r)//2\n",
    "        \n",
    "        if arr[-1]<=k:\n",
    "            return arr[0]\n",
    "        \n",
    "        if arr[m]>k:\n",
    "            ans=arr[m]\n",
    "            r=m-1\n",
    "        \n",
    "        elif arr[m]<=k:\n",
    "            l=m+1\n",
    "    \n",
    "    return ans\n",
    "            \n",
    "        "
   ]
  },
  {
   "cell_type": "code",
   "execution_count": null,
   "metadata": {},
   "outputs": [],
   "source": [
    "next_greatest_alpha([\"D\", \"J\", \"K\"],'B')"
   ]
  },
  {
   "cell_type": "code",
   "execution_count": null,
   "metadata": {},
   "outputs": [],
   "source": [
    "next_greatest_alpha([\"D\", \"J\", \"K\"],'K')"
   ]
  },
  {
   "cell_type": "markdown",
   "metadata": {},
   "source": [
    "### 11 Find position of an element in an Infinite Sorted Array"
   ]
  },
  {
   "cell_type": "code",
   "execution_count": null,
   "metadata": {},
   "outputs": [],
   "source": [
    "def binary_infinite(arr,key):\n",
    "    l=0\n",
    "    h=1\n",
    "    \n",
    "    while key>arr[h]:\n",
    "        \n",
    "        l=h\n",
    "        h=h*2\n",
    "        \n",
    "    return (bin_sea(arr,l,h,key))\n",
    "    \n",
    "\n",
    "def bin_sea(arr,l,h,key):\n",
    "    while l<=h:\n",
    "        m=(l+h)//2\n",
    "        \n",
    "        if arr[m]==key:\n",
    "            return m\n",
    "        \n",
    "        elif arr[m]<key:\n",
    "            l=m+1\n",
    "        elif arr[m]>key:\n",
    "            h=m-1\n",
    "    \n",
    "    "
   ]
  },
  {
   "cell_type": "code",
   "execution_count": null,
   "metadata": {},
   "outputs": [],
   "source": [
    "binary_infinite([3, 5, 7, 9, 10, 90, 100, 130, 140, 160, 170],90)"
   ]
  },
  {
   "cell_type": "markdown",
   "metadata": {},
   "source": [
    "### 12.Index of First 1 in a Binary Sorted Infinite Array"
   ]
  },
  {
   "cell_type": "code",
   "execution_count": null,
   "metadata": {},
   "outputs": [],
   "source": [
    "def bin_infinite(arr):\n",
    "    l=0\n",
    "    h=1\n",
    "    \n",
    "    while arr[h]<1:\n",
    "        l=h\n",
    "        h=h*2\n",
    "    \n",
    "    return first_occur(arr,l,h)\n",
    "    \n",
    "    \n",
    "    \n",
    "    \n",
    "def first_occur(arr,l,h):\n",
    "    res=-1\n",
    "    \n",
    "    while l<=h:\n",
    "        m=(l+h)//2\n",
    "        \n",
    "        if arr[m]==1:\n",
    "            res=m\n",
    "            h=m-1\n",
    "        \n",
    "        elif arr[m]<1:\n",
    "            l=m+1\n",
    "        \n",
    "        elif arr[m]>1:\n",
    "            r=m-1\n",
    "    return res\n",
    "\n"
   ]
  },
  {
   "cell_type": "code",
   "execution_count": null,
   "metadata": {},
   "outputs": [],
   "source": [
    "bin_infinite([0,0,0,0,0,0,0,0,0,0,0,0,0,0,0,0,0,0,0,0,0,0,1,1,1,1,1,1,1,1,1,1,1,1,1,1,1,1])"
   ]
  },
  {
   "cell_type": "markdown",
   "metadata": {},
   "source": [
    "### 13. Minimum Difference Element in a Sorted Array"
   ]
  },
  {
   "cell_type": "code",
   "execution_count": null,
   "metadata": {},
   "outputs": [],
   "source": [
    "def mindiff(arr,key):\n",
    "    l=0\n",
    "    r=len(arr)-1\n",
    "    \n",
    "    while l<=r:\n",
    "        \n",
    "        m=(l+r)//2\n",
    "        \n",
    "        if arr[m]==key:\n",
    "            return arr[m]\n",
    "        \n",
    "        \n",
    "        elif arr[m]<key:\n",
    "            l=m+1\n",
    "        \n",
    "        elif arr[m]>key:\n",
    "            r=m-1\n",
    "    \n",
    "    return min(abs(arr[l]-key),abs(arr[r]-key))"
   ]
  },
  {
   "cell_type": "code",
   "execution_count": null,
   "metadata": {},
   "outputs": [],
   "source": [
    "mindiff([1,2,3,6,10,12],6)"
   ]
  },
  {
   "cell_type": "code",
   "execution_count": null,
   "metadata": {},
   "outputs": [],
   "source": [
    "mindiff([1,2,3,6,10,12,18,22],15)"
   ]
  },
  {
   "cell_type": "markdown",
   "metadata": {},
   "source": [
    "### 14 Peak Element"
   ]
  },
  {
   "cell_type": "code",
   "execution_count": 14,
   "metadata": {},
   "outputs": [],
   "source": [
    "def peak(arr):\n",
    "    \n",
    "    l=0\n",
    "    r=len(arr)-1\n",
    "    n=len(arr)\n",
    "    \n",
    "    while l<=r:\n",
    "        \n",
    "        m=l+(r-l)//2\n",
    "        \n",
    "        if m==0:\n",
    "            if arr[0]>arr[1]:\n",
    "                return 0\n",
    "            else:\n",
    "                return 1\n",
    "        \n",
    "        if m==n-1:\n",
    "            if arr[n-1]>arr[n-2]:\n",
    "                return n-1\n",
    "            else:\n",
    "                return n-2\n",
    "            \n",
    "        \n",
    "        if m>0 and m<n-1:\n",
    "            \n",
    "            if arr[m]>arr[m+1] and arr[m]>arr[m-1]:\n",
    "                return m\n",
    "            elif arr[m]<arr[m-1]:\n",
    "                r=m-1\n",
    "            elif arr[m]<arr[m+1]:\n",
    "                l=m+1\n",
    "        "
   ]
  },
  {
   "cell_type": "code",
   "execution_count": 15,
   "metadata": {},
   "outputs": [
    {
     "data": {
      "text/plain": [
       "2"
      ]
     },
     "execution_count": 15,
     "metadata": {},
     "output_type": "execute_result"
    }
   ],
   "source": [
    "peak([5,10,20,15])"
   ]
  },
  {
   "cell_type": "code",
   "execution_count": 16,
   "metadata": {},
   "outputs": [
    {
     "data": {
      "text/plain": [
       "4"
      ]
     },
     "execution_count": 16,
     "metadata": {},
     "output_type": "execute_result"
    }
   ],
   "source": [
    "peak([1,2,3,2,13,10,13,14,12])"
   ]
  },
  {
   "cell_type": "code",
   "execution_count": null,
   "metadata": {},
   "outputs": [],
   "source": []
  },
  {
   "cell_type": "markdown",
   "metadata": {},
   "source": [
    "### 15. Max in bitonic array"
   ]
  },
  {
   "cell_type": "code",
   "execution_count": null,
   "metadata": {},
   "outputs": [],
   "source": [
    "def bitpeak(arr):\n",
    "    l=0\n",
    "    r=len(arr)-1\n",
    "    \n",
    "    while l<=r:\n",
    "        m=l+(r-l)//2\n",
    "        \n",
    "        if arr[m]>arr[m-1] and arr[m]>arr[m+1]:\n",
    "            return m\n",
    "        elif arr[m]<arr[m-1]:\n",
    "            r=m-1\n",
    "        elif arr[m]<arr[m+1]:\n",
    "            l=m+1\n",
    "            "
   ]
  },
  {
   "cell_type": "code",
   "execution_count": null,
   "metadata": {},
   "outputs": [],
   "source": [
    "bitpeak([1,3,8,12,4,2])"
   ]
  },
  {
   "cell_type": "markdown",
   "metadata": {},
   "source": [
    "### 16 Search An Element in Bitonic Array"
   ]
  },
  {
   "cell_type": "code",
   "execution_count": null,
   "metadata": {},
   "outputs": [],
   "source": [
    "\n",
    "    \n",
    "    \n",
    "    \n",
    "def bin_search_inc(arr,k):\n",
    "    l=0\n",
    "    r=len(arr)-1\n",
    "        \n",
    "    while l<=r:\n",
    "        m=l+(r-l)//2\n",
    "            \n",
    "        if arr[m]==k:\n",
    "            return m\n",
    "        elif arr[m]<k:\n",
    "            l=m+1\n",
    "        elif arr[m]>k:\n",
    "            r=m-1\n",
    "        \n",
    "    return -1\n",
    "    \n",
    "        \n",
    "def bin_search_dec(arr,k):\n",
    "    l=0\n",
    "    r=len(arr)-1\n",
    "        \n",
    "    while l<=r:\n",
    "        m=l+(r-l)//2\n",
    "            \n",
    "        if arr[m]==k:\n",
    "            return m\n",
    "        elif arr[m]<k:\n",
    "            r=m-1\n",
    "        elif arr[m]>k:\n",
    "            l=m+1\n",
    "        \n",
    "    return -1\n",
    "    \n",
    "    \n",
    "    \n",
    "    \n",
    "def peak(arr):\n",
    "    l=0\n",
    "    r=len(arr)-1\n",
    "        \n",
    "    while l<=r:\n",
    "        m=l+(r-l)//2\n",
    "            \n",
    "        if arr[m]>arr[m-1] and arr[m]>arr[m+1]:\n",
    "            return m\n",
    "        elif arr[m]<arr[m-1]:\n",
    "            r=m-1\n",
    "        elif arr[m]<arr[m+1]:\n",
    "            l=m+1\n",
    "        \n",
    "def bitonicsearch(arr,k):\n",
    "    \n",
    "    c=peak(arr)\n",
    "    \n",
    "    arr1=arr[:c]\n",
    "    arr2=arr[c:]\n",
    "    \n",
    "    arr1out=bin_search_inc(arr1,k)\n",
    "    arr2out=bin_search_dec(arr2,k)\n",
    "    \n",
    "    if arr1out==-1:\n",
    "        return (c+arr2out-1)\n",
    "    elif arr2out==-1:\n",
    "        return arr1out\n",
    "    else:\n",
    "        return -1\n",
    "\n"
   ]
  },
  {
   "cell_type": "code",
   "execution_count": null,
   "metadata": {},
   "outputs": [],
   "source": [
    "bitonicsearch([1,3,8,12,4,2],4)"
   ]
  },
  {
   "cell_type": "code",
   "execution_count": null,
   "metadata": {},
   "outputs": [],
   "source": []
  },
  {
   "cell_type": "markdown",
   "metadata": {},
   "source": [
    "#### Search row wise and column wise sorted matrix"
   ]
  },
  {
   "cell_type": "code",
   "execution_count": null,
   "metadata": {},
   "outputs": [],
   "source": [
    "mat = [ [10, 20, 30, 40],\n",
    "        [15, 25, 35, 45],\n",
    "        [27, 29, 37, 48],\n",
    "        [32, 33, 39, 50]]"
   ]
  },
  {
   "cell_type": "code",
   "execution_count": null,
   "metadata": {},
   "outputs": [],
   "source": [
    "def src(arr,k):\n",
    "    i=0\n",
    "    j=len(mat)-1\n",
    "    \n",
    "    n=len(arr[0])\n",
    "    m=len(arr)\n",
    "    \n",
    "    while (i>=0 and i<n ) and (j>=0 and j<m):\n",
    "        if arr[i][j]==k:\n",
    "            return (i,j)\n",
    "        elif arr[i][j]>k:\n",
    "            j-=1\n",
    "        elif arr[i][j]<k:\n",
    "            i+=1\n",
    "    return -1"
   ]
  },
  {
   "cell_type": "code",
   "execution_count": null,
   "metadata": {},
   "outputs": [],
   "source": [
    "src(mat,32)"
   ]
  },
  {
   "cell_type": "code",
   "execution_count": null,
   "metadata": {},
   "outputs": [],
   "source": []
  },
  {
   "cell_type": "code",
   "execution_count": null,
   "metadata": {},
   "outputs": [],
   "source": []
  },
  {
   "cell_type": "markdown",
   "metadata": {},
   "source": [
    "#### Allocate minimum number of papers"
   ]
  },
  {
   "cell_type": "code",
   "execution_count": null,
   "metadata": {},
   "outputs": [],
   "source": [
    "def allocate(arr,k):\n",
    "    \n",
    "    start=max(arr)\n",
    "    end=sum(arr)\n",
    "    res=-1\n",
    "    \n",
    "    while start<=end:\n",
    "        mid=(start+end)//2\n",
    "        \n",
    "        if (isvalid[arr,k,mid] == True):\n",
    "            res=mid\n",
    "            end=mid-1\n",
    "            \n",
    "        else:\n",
    "            start=mid+1\n",
    "            \n",
    "    return res\n",
    "            \n",
    "    def isvalid(arr,k,mx):\n",
    "        sum=0\n",
    "        student=0\n",
    "        \n",
    "        for i in range(len(arr)):\n",
    "            sum+=arr[i]\n",
    "            \n",
    "            if sum>mx:\n",
    "                student+=1\n",
    "                sum=arr[i]\n",
    "                \n",
    "        if student>k:\n",
    "            return False\n",
    "        \n",
    "        return True\n",
    "        "
   ]
  },
  {
   "cell_type": "code",
   "execution_count": null,
   "metadata": {},
   "outputs": [],
   "source": []
  },
  {
   "cell_type": "code",
   "execution_count": null,
   "metadata": {},
   "outputs": [],
   "source": []
  },
  {
   "cell_type": "markdown",
   "metadata": {},
   "source": [
    "## Faraaz"
   ]
  },
  {
   "cell_type": "markdown",
   "metadata": {},
   "source": [
    "### 1.Sqrt(x)"
   ]
  },
  {
   "cell_type": "code",
   "execution_count": 4,
   "metadata": {},
   "outputs": [],
   "source": [
    "def sqrt(x):\n",
    "        \n",
    "        if x==0:\n",
    "            return 0\n",
    "        l=1\n",
    "        r=x\n",
    "    \n",
    "        while l<=r:\n",
    "            m=(l)+(r-l)//2\n",
    "        \n",
    "            if m*m<=x<(m+1)*(m+1):\n",
    "                return m\n",
    "            elif m*m>x:\n",
    "                r=m-1\n",
    "            else:\n",
    "                l=m+1"
   ]
  },
  {
   "cell_type": "code",
   "execution_count": 5,
   "metadata": {},
   "outputs": [
    {
     "data": {
      "text/plain": [
       "4"
      ]
     },
     "execution_count": 5,
     "metadata": {},
     "output_type": "execute_result"
    }
   ],
   "source": [
    "sqrt(16)"
   ]
  },
  {
   "cell_type": "code",
   "execution_count": 6,
   "metadata": {},
   "outputs": [
    {
     "data": {
      "text/plain": [
       "2"
      ]
     },
     "execution_count": 6,
     "metadata": {},
     "output_type": "execute_result"
    }
   ],
   "source": [
    "sqrt(4)"
   ]
  },
  {
   "cell_type": "code",
   "execution_count": 7,
   "metadata": {},
   "outputs": [
    {
     "data": {
      "text/plain": [
       "16"
      ]
     },
     "execution_count": 7,
     "metadata": {},
     "output_type": "execute_result"
    }
   ],
   "source": [
    "sqrt(256)"
   ]
  },
  {
   "cell_type": "code",
   "execution_count": 8,
   "metadata": {},
   "outputs": [
    {
     "data": {
      "text/plain": [
       "2"
      ]
     },
     "execution_count": 8,
     "metadata": {},
     "output_type": "execute_result"
    }
   ],
   "source": [
    "sqrt(8)"
   ]
  },
  {
   "cell_type": "code",
   "execution_count": null,
   "metadata": {},
   "outputs": [],
   "source": []
  },
  {
   "cell_type": "markdown",
   "metadata": {},
   "source": [
    "### 2.Count Negative Numbers in a Sorted Matrix"
   ]
  },
  {
   "cell_type": "code",
   "execution_count": 12,
   "metadata": {},
   "outputs": [],
   "source": [
    "def brutcn(arr):\n",
    "    \n",
    "    count=0\n",
    "    \n",
    "    for i in range(len(arr)):\n",
    "        for j in range(len(arr[0])):\n",
    "            if arr[i][j]<0:\n",
    "                count+=1\n",
    "                \n",
    "    return count"
   ]
  },
  {
   "cell_type": "code",
   "execution_count": 13,
   "metadata": {},
   "outputs": [
    {
     "data": {
      "text/plain": [
       "8"
      ]
     },
     "execution_count": 13,
     "metadata": {},
     "output_type": "execute_result"
    }
   ],
   "source": [
    "brutcn([[4,3,2,-1],[3,2,1,-1],[1,1,-1,-2],[-1,-1,-2,-3]])"
   ]
  },
  {
   "cell_type": "markdown",
   "metadata": {},
   "source": [
    "### 3.search in rotated sorted array"
   ]
  },
  {
   "cell_type": "code",
   "execution_count": 7,
   "metadata": {},
   "outputs": [],
   "source": [
    "def search(self, nums, target):\n",
    "        left, right = 0, len(nums)-1\n",
    "        while left<=right:\n",
    "            mid = left+(right-left)//2\n",
    "            if nums[mid] == target:\n",
    "                return mid\n",
    "            if nums[mid]<nums[right]:\n",
    "                if nums[mid]<target<=nums[right]:\n",
    "                    left=mid+1\n",
    "                else:\n",
    "                    right=mid-1\n",
    "            else:\n",
    "                if nums[left]<=target<nums[mid]:\n",
    "                    right=mid-1\n",
    "                else:\n",
    "                    left = mid+1\n",
    "        return -1"
   ]
  },
  {
   "cell_type": "code",
   "execution_count": null,
   "metadata": {},
   "outputs": [],
   "source": []
  }
 ],
 "metadata": {
  "kernelspec": {
   "display_name": "Python 3",
   "language": "python",
   "name": "python3"
  },
  "language_info": {
   "codemirror_mode": {
    "name": "ipython",
    "version": 3
   },
   "file_extension": ".py",
   "mimetype": "text/x-python",
   "name": "python",
   "nbconvert_exporter": "python",
   "pygments_lexer": "ipython3",
   "version": "3.8.5"
  }
 },
 "nbformat": 4,
 "nbformat_minor": 4
}
